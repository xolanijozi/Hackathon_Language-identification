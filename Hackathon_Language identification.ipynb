{
 "cells": [
  {
   "cell_type": "markdown",
   "metadata": {},
   "source": [
    "# Importing packages"
   ]
  },
  {
   "cell_type": "code",
   "execution_count": 1,
   "metadata": {},
   "outputs": [],
   "source": [
    "import pandas as pd\n",
    "import numpy as np\n",
    "import re\n",
    "import nltk\n",
    "import string\n",
    "import seaborn as sns\n",
    "import matplotlib.pyplot as plt\n",
    "%matplotlib inline\n",
    "from sklearn.naive_bayes import MultinomialNB\n",
    "from sklearn.ensemble import RandomForestClassifier\n",
    "from sklearn.svm import LinearSVC\n",
    "from xgboost import XGBClassifier\n",
    "from sklearn.model_selection import GridSearchCV\n",
    "from nltk.corpus import stopwords\n",
    "from sklearn.feature_extraction.text import TfidfVectorizer\n",
    "from sklearn.model_selection import cross_val_score\n",
    "import warnings\n",
    "warnings.simplefilter(\"ignore\")"
   ]
  },
  {
   "cell_type": "markdown",
   "metadata": {},
   "source": [
    "# Train data"
   ]
  },
  {
   "cell_type": "code",
   "execution_count": 2,
   "metadata": {},
   "outputs": [],
   "source": [
    "df=pd.read_csv('C:/Users/XolaniJ/Documents/EXPLORE ACADEMY_Data Science Course/ADVANCED CLASSIFICATION/NLP_Hackathon/train_set.csv')"
   ]
  },
  {
   "cell_type": "markdown",
   "metadata": {},
   "source": [
    "# EDA"
   ]
  },
  {
   "cell_type": "code",
   "execution_count": 3,
   "metadata": {},
   "outputs": [
    {
     "data": {
      "text/html": [
       "<div>\n",
       "<style scoped>\n",
       "    .dataframe tbody tr th:only-of-type {\n",
       "        vertical-align: middle;\n",
       "    }\n",
       "\n",
       "    .dataframe tbody tr th {\n",
       "        vertical-align: top;\n",
       "    }\n",
       "\n",
       "    .dataframe thead th {\n",
       "        text-align: right;\n",
       "    }\n",
       "</style>\n",
       "<table border=\"1\" class=\"dataframe\">\n",
       "  <thead>\n",
       "    <tr style=\"text-align: right;\">\n",
       "      <th></th>\n",
       "      <th>lang_id</th>\n",
       "      <th>text</th>\n",
       "    </tr>\n",
       "  </thead>\n",
       "  <tbody>\n",
       "    <tr>\n",
       "      <th>0</th>\n",
       "      <td>xho</td>\n",
       "      <td>umgaqo-siseko wenza amalungiselelo kumaziko ax...</td>\n",
       "    </tr>\n",
       "    <tr>\n",
       "      <th>1</th>\n",
       "      <td>xho</td>\n",
       "      <td>i-dha iya kuba nobulumko bokubeka umsebenzi na...</td>\n",
       "    </tr>\n",
       "    <tr>\n",
       "      <th>2</th>\n",
       "      <td>eng</td>\n",
       "      <td>the province of kwazulu-natal department of tr...</td>\n",
       "    </tr>\n",
       "    <tr>\n",
       "      <th>3</th>\n",
       "      <td>nso</td>\n",
       "      <td>o netefatša gore o ba file dilo ka moka tše le...</td>\n",
       "    </tr>\n",
       "    <tr>\n",
       "      <th>4</th>\n",
       "      <td>ven</td>\n",
       "      <td>khomishini ya ndinganyiso ya mbeu yo ewa maana...</td>\n",
       "    </tr>\n",
       "  </tbody>\n",
       "</table>\n",
       "</div>"
      ],
      "text/plain": [
       "  lang_id                                               text\n",
       "0     xho  umgaqo-siseko wenza amalungiselelo kumaziko ax...\n",
       "1     xho  i-dha iya kuba nobulumko bokubeka umsebenzi na...\n",
       "2     eng  the province of kwazulu-natal department of tr...\n",
       "3     nso  o netefatša gore o ba file dilo ka moka tše le...\n",
       "4     ven  khomishini ya ndinganyiso ya mbeu yo ewa maana..."
      ]
     },
     "execution_count": 3,
     "metadata": {},
     "output_type": "execute_result"
    }
   ],
   "source": [
    "df.head()"
   ]
  },
  {
   "cell_type": "code",
   "execution_count": 4,
   "metadata": {},
   "outputs": [
    {
     "data": {
      "text/plain": [
       "(33000, 2)"
      ]
     },
     "execution_count": 4,
     "metadata": {},
     "output_type": "execute_result"
    }
   ],
   "source": [
    "df.shape"
   ]
  },
  {
   "cell_type": "code",
   "execution_count": 5,
   "metadata": {},
   "outputs": [
    {
     "data": {
      "text/plain": [
       "tso    3000\n",
       "sot    3000\n",
       "nbl    3000\n",
       "tsn    3000\n",
       "afr    3000\n",
       "xho    3000\n",
       "eng    3000\n",
       "zul    3000\n",
       "ven    3000\n",
       "ssw    3000\n",
       "nso    3000\n",
       "Name: lang_id, dtype: int64"
      ]
     },
     "execution_count": 5,
     "metadata": {},
     "output_type": "execute_result"
    }
   ],
   "source": [
    "df[\"lang_id\"].value_counts()"
   ]
  },
  {
   "cell_type": "markdown",
   "metadata": {},
   "source": [
    "<b>The training data has 33000 rows and two columns.Notably the classes that represents different languages have equal number (3000) of observations.</b>"
   ]
  },
  {
   "cell_type": "code",
   "execution_count": 6,
   "metadata": {},
   "outputs": [
    {
     "data": {
      "text/plain": [
       "lang_id    0\n",
       "text       0\n",
       "dtype: int64"
      ]
     },
     "execution_count": 6,
     "metadata": {},
     "output_type": "execute_result"
    }
   ],
   "source": [
    "df.isnull().sum()"
   ]
  },
  {
   "cell_type": "markdown",
   "metadata": {},
   "source": [
    "<b>There are no missing values from the columns of the training data.</b>"
   ]
  },
  {
   "cell_type": "markdown",
   "metadata": {},
   "source": [
    "# Test data"
   ]
  },
  {
   "cell_type": "code",
   "execution_count": 7,
   "metadata": {},
   "outputs": [],
   "source": [
    "df_test=pd.read_csv('C:/Users/XolaniJ/Documents/EXPLORE ACADEMY_Data Science Course/ADVANCED CLASSIFICATION/NLP_Hackathon/test_set.csv')"
   ]
  },
  {
   "cell_type": "code",
   "execution_count": 8,
   "metadata": {},
   "outputs": [
    {
     "data": {
      "text/html": [
       "<div>\n",
       "<style scoped>\n",
       "    .dataframe tbody tr th:only-of-type {\n",
       "        vertical-align: middle;\n",
       "    }\n",
       "\n",
       "    .dataframe tbody tr th {\n",
       "        vertical-align: top;\n",
       "    }\n",
       "\n",
       "    .dataframe thead th {\n",
       "        text-align: right;\n",
       "    }\n",
       "</style>\n",
       "<table border=\"1\" class=\"dataframe\">\n",
       "  <thead>\n",
       "    <tr style=\"text-align: right;\">\n",
       "      <th></th>\n",
       "      <th>index</th>\n",
       "      <th>text</th>\n",
       "    </tr>\n",
       "  </thead>\n",
       "  <tbody>\n",
       "    <tr>\n",
       "      <th>0</th>\n",
       "      <td>1</td>\n",
       "      <td>Mmasepala, fa maemo a a kgethegileng a letlele...</td>\n",
       "    </tr>\n",
       "    <tr>\n",
       "      <th>1</th>\n",
       "      <td>2</td>\n",
       "      <td>Uzakwaziswa ngokufaneleko nakungafuneka eminye...</td>\n",
       "    </tr>\n",
       "    <tr>\n",
       "      <th>2</th>\n",
       "      <td>3</td>\n",
       "      <td>Tshivhumbeo tshi fana na ngano dza vhathu.</td>\n",
       "    </tr>\n",
       "    <tr>\n",
       "      <th>3</th>\n",
       "      <td>4</td>\n",
       "      <td>Kube inja nelikati betingevakala kutsi titsini...</td>\n",
       "    </tr>\n",
       "    <tr>\n",
       "      <th>4</th>\n",
       "      <td>5</td>\n",
       "      <td>Winste op buitelandse valuta.</td>\n",
       "    </tr>\n",
       "  </tbody>\n",
       "</table>\n",
       "</div>"
      ],
      "text/plain": [
       "   index                                               text\n",
       "0      1  Mmasepala, fa maemo a a kgethegileng a letlele...\n",
       "1      2  Uzakwaziswa ngokufaneleko nakungafuneka eminye...\n",
       "2      3         Tshivhumbeo tshi fana na ngano dza vhathu.\n",
       "3      4  Kube inja nelikati betingevakala kutsi titsini...\n",
       "4      5                      Winste op buitelandse valuta."
      ]
     },
     "execution_count": 8,
     "metadata": {},
     "output_type": "execute_result"
    }
   ],
   "source": [
    "df_test.head()"
   ]
  },
  {
   "cell_type": "code",
   "execution_count": 9,
   "metadata": {},
   "outputs": [
    {
     "data": {
      "text/plain": [
       "(5682, 2)"
      ]
     },
     "execution_count": 9,
     "metadata": {},
     "output_type": "execute_result"
    }
   ],
   "source": [
    "df_test.shape"
   ]
  },
  {
   "cell_type": "markdown",
   "metadata": {},
   "source": [
    "<b>The test data has 5682 rows and two columns.</b>"
   ]
  },
  {
   "cell_type": "code",
   "execution_count": 10,
   "metadata": {},
   "outputs": [
    {
     "data": {
      "text/plain": [
       "index    0\n",
       "text     0\n",
       "dtype: int64"
      ]
     },
     "execution_count": 10,
     "metadata": {},
     "output_type": "execute_result"
    }
   ],
   "source": [
    "df_test.isnull().sum()"
   ]
  },
  {
   "cell_type": "markdown",
   "metadata": {},
   "source": [
    "<b>There are no missing values from the test data.</b>"
   ]
  },
  {
   "cell_type": "markdown",
   "metadata": {},
   "source": [
    "# Copy  datasets"
   ]
  },
  {
   "cell_type": "code",
   "execution_count": 11,
   "metadata": {},
   "outputs": [],
   "source": [
    "train_lang = df.copy()\n",
    "test_lang = df_test.copy()"
   ]
  },
  {
   "cell_type": "markdown",
   "metadata": {},
   "source": [
    "# Combine datasets"
   ]
  },
  {
   "cell_type": "code",
   "execution_count": 12,
   "metadata": {},
   "outputs": [],
   "source": [
    "DF = pd.concat([test_lang.assign(ind=\"test\"), train_lang.assign(ind=\"train\")])"
   ]
  },
  {
   "cell_type": "code",
   "execution_count": 13,
   "metadata": {},
   "outputs": [
    {
     "data": {
      "text/html": [
       "<div>\n",
       "<style scoped>\n",
       "    .dataframe tbody tr th:only-of-type {\n",
       "        vertical-align: middle;\n",
       "    }\n",
       "\n",
       "    .dataframe tbody tr th {\n",
       "        vertical-align: top;\n",
       "    }\n",
       "\n",
       "    .dataframe thead th {\n",
       "        text-align: right;\n",
       "    }\n",
       "</style>\n",
       "<table border=\"1\" class=\"dataframe\">\n",
       "  <thead>\n",
       "    <tr style=\"text-align: right;\">\n",
       "      <th></th>\n",
       "      <th>index</th>\n",
       "      <th>text</th>\n",
       "      <th>ind</th>\n",
       "      <th>lang_id</th>\n",
       "    </tr>\n",
       "  </thead>\n",
       "  <tbody>\n",
       "    <tr>\n",
       "      <th>0</th>\n",
       "      <td>1.0</td>\n",
       "      <td>Mmasepala, fa maemo a a kgethegileng a letlele...</td>\n",
       "      <td>test</td>\n",
       "      <td>NaN</td>\n",
       "    </tr>\n",
       "    <tr>\n",
       "      <th>1</th>\n",
       "      <td>2.0</td>\n",
       "      <td>Uzakwaziswa ngokufaneleko nakungafuneka eminye...</td>\n",
       "      <td>test</td>\n",
       "      <td>NaN</td>\n",
       "    </tr>\n",
       "    <tr>\n",
       "      <th>2</th>\n",
       "      <td>3.0</td>\n",
       "      <td>Tshivhumbeo tshi fana na ngano dza vhathu.</td>\n",
       "      <td>test</td>\n",
       "      <td>NaN</td>\n",
       "    </tr>\n",
       "    <tr>\n",
       "      <th>3</th>\n",
       "      <td>4.0</td>\n",
       "      <td>Kube inja nelikati betingevakala kutsi titsini...</td>\n",
       "      <td>test</td>\n",
       "      <td>NaN</td>\n",
       "    </tr>\n",
       "    <tr>\n",
       "      <th>4</th>\n",
       "      <td>5.0</td>\n",
       "      <td>Winste op buitelandse valuta.</td>\n",
       "      <td>test</td>\n",
       "      <td>NaN</td>\n",
       "    </tr>\n",
       "  </tbody>\n",
       "</table>\n",
       "</div>"
      ],
      "text/plain": [
       "   index                                               text   ind lang_id\n",
       "0    1.0  Mmasepala, fa maemo a a kgethegileng a letlele...  test     NaN\n",
       "1    2.0  Uzakwaziswa ngokufaneleko nakungafuneka eminye...  test     NaN\n",
       "2    3.0         Tshivhumbeo tshi fana na ngano dza vhathu.  test     NaN\n",
       "3    4.0  Kube inja nelikati betingevakala kutsi titsini...  test     NaN\n",
       "4    5.0                      Winste op buitelandse valuta.  test     NaN"
      ]
     },
     "execution_count": 13,
     "metadata": {},
     "output_type": "execute_result"
    }
   ],
   "source": [
    "DF.head()"
   ]
  },
  {
   "cell_type": "markdown",
   "metadata": {},
   "source": [
    "# Convert a text column to lowercase"
   ]
  },
  {
   "cell_type": "code",
   "execution_count": 14,
   "metadata": {},
   "outputs": [],
   "source": [
    "DF['text'] = DF['text'].str.lower()"
   ]
  },
  {
   "cell_type": "markdown",
   "metadata": {},
   "source": [
    "# Define custormise stopwords"
   ]
  },
  {
   "cell_type": "code",
   "execution_count": 15,
   "metadata": {},
   "outputs": [
    {
     "name": "stdout",
     "output_type": "stream",
     "text": [
      "['i', 'me', 'my', 'myself', 'we', 'our', 'ours', 'ourselves', 'you', \"you're\", \"you've\", \"you'll\", \"you'd\", 'your', 'yours', 'yourself', 'yourselves', 'he', 'him', 'his', 'himself', 'she', \"she's\", 'her', 'hers', 'herself', 'it', \"it's\", 'its', 'itself', 'they', 'them', 'their', 'theirs', 'themselves', 'what', 'which', 'who', 'whom', 'this', 'that', \"that'll\", 'these', 'those', 'am', 'is', 'are', 'was', 'were', 'be', 'been', 'being', 'have', 'has', 'had', 'having', 'do', 'does', 'did', 'doing', 'a', 'an', 'the', 'and', 'but', 'if', 'or', 'because', 'as', 'until', 'while', 'of', 'at', 'by', 'for', 'with', 'about', 'against', 'between', 'into', 'through', 'during', 'before', 'after', 'above', 'below', 'to', 'from', 'up', 'down', 'in', 'out', 'on', 'off', 'over', 'under', 'again', 'further', 'then', 'once', 'here', 'there', 'when', 'where', 'why', 'how', 'all', 'any', 'both', 'each', 'few', 'more', 'most', 'other', 'some', 'such', 'no', 'nor', 'not', 'only', 'own', 'same', 'so', 'than', 'too', 'very', 's', 't', 'can', 'will', 'just', 'don', \"don't\", 'should', \"should've\", 'now', 'd', 'll', 'm', 'o', 're', 've', 'y', 'ain', 'aren', \"aren't\", 'couldn', \"couldn't\", 'didn', \"didn't\", 'doesn', \"doesn't\", 'hadn', \"hadn't\", 'hasn', \"hasn't\", 'haven', \"haven't\", 'isn', \"isn't\", 'ma', 'mightn', \"mightn't\", 'mustn', \"mustn't\", 'needn', \"needn't\", 'shan', \"shan't\", 'shouldn', \"shouldn't\", 'wasn', \"wasn't\", 'weren', \"weren't\", 'won', \"won't\", 'wouldn', \"wouldn't\"]\n"
     ]
    }
   ],
   "source": [
    "from nltk.corpus import stopwords\n",
    "print(stopwords.words('english'))"
   ]
  },
  {
   "cell_type": "code",
   "execution_count": 16,
   "metadata": {},
   "outputs": [],
   "source": [
    "#english\n",
    "stop1=['i','c','-','u','@', 'me', 'my', 'im','i m','myself', 'we', 'our', 'ours', 'ourselves', 'you', \"you're\", \"you've\", \"you'll\", \"you'd\", 'your', 'yours', 'yourself', 'yourselves', 'he', 'him', 'his', 'himself', 'she', \"she's\", 'her', 'hers', 'herself', 'it', \"it's\", 'its', 'itself', 'they', 'them', 'their', 'theirs', 'themselves', 'what', 'which', 'who', 'whom', 'this', 'that', \"that'll\", 'these', 'those', 'am', 'is', 'are', 'was', 'were', 'be', 'been', 'being', 'have', 'has', 'had', 'having', 'do', 'does', 'did', 'doing', 'a', 'an', 'the', 'and', 'but', 'if', 'or', 'because', 'as', 'until', 'while', 'of', 'at', 'by', 'for', 'with', 'about', 'against', 'between', 'into', 'through', 'during', 'before', 'after', 'above', 'below', 'to', 'from', 'up', 'down', 'in', 'out', 'on', 'off', 'over', 'under', 'again', 'further', 'then', 'once', 'here', 'there', 'when', 'where', 'why', 'how', 'all', 'any', 'both', 'each', 'few', 'more', 'most', 'other', 'some', 'such', 'no', 'nor', 'not', 'only', 'own', 'same', 'so', 'than', 'too', 'very', 's', 't', 'can', 'will', 'just', 'don', \"don't\", 'should', \"should've\", 'now', 'd', 'll', 'm', 'o', 're', 've', 'y', 'ain', 'aren', \"aren't\", 'couldn', \"couldn't\", 'didn', \"didn't\", 'doesn', \"doesn't\", 'hadn', \"hadn't\", 'hasn', \"hasn't\", 'haven', \"haven't\", 'isn', \"isn't\", 'ma', 'mightn', \"mightn't\", 'mustn', \"mustn't\", 'needn', \"needn't\", 'shan', \"shan't\", \"i'm\",\"i am\",'shouldn', \"shouldn't\", 'wasn', \"wasn't\", 'weren', \"weren't\", 'won', \"won't\", 'wouldn', \"wouldn't\"]"
   ]
  },
  {
   "cell_type": "code",
   "execution_count": 17,
   "metadata": {},
   "outputs": [],
   "source": [
    "#setswana\n",
    "stop2=['tsa me','tsa','re','rona','tsa gago','gago','rraalona','èna','lona','dira','se','lo','se batlang','batlang','ga bōnè','ga',\n",
    "'bōnè','fa','tsamaya','go']"
   ]
  },
  {
   "cell_type": "code",
   "execution_count": 18,
   "metadata": {},
   "outputs": [],
   "source": [
    "#Sot\n",
    "stop3=['ke','nna','ka bonna','ka nna','ka','rona','ea rona','tsa rona','rona ka borona','uena','u joalo','joalo','u tla','tla','u ka','ea hau','uena',\n",
    "'lona ka bolona','eena','hae','ka boeena','eona','ke eona','bona','tsa bona','tsa','ba','ena','ba le','le','e ne e','o ile a','hore','bakeng sa',\n",
    "'e le','empa','eng','ba bang ba','kapa','ne','ea','ho','re','e leng','etsa','ba bona ba','haeba','joang','mong le e mong','etsang','mona','lokela ho',\n",
    "'joalo','ke hobane’ng ha','theoha','lokela','re','hape','leha e le efe','ka mor’a hore','feela','mong le e mong','’na','rōna','tlas’a','haholo','ka ho','feela',\n",
    "'haholo','pele','le eena o','tšoanang','o ile a','tsohle','mono','neng','hao','ka nako eo','e le','tsena','mo','o na le','hape','ka se khonang','ile a etsa',\n",
    "'ha ho','ka ho fetisisa','ho feta','ba ba neng ba','bile','hona joale','lokela','pakeng tsa','se ke oa','ha a ntse a','tse seng kae','hang','ka bobeli','ho fihlela',\n",
    "'ka nako ya','khahlanong le','etsa','ha e etse joalo','ha a so','ka a etsa joalo','mohlomong ha ho joalo','mohlomong','ha ho','ha ea lokela','ha e hloke','ha ho joalo',\n",
    " 'ka mora','pele ho','nakong','kena','mabapi le','bakeng sa','nakong','ha a ntse a','ho fihlela',\n",
    " 'kapa','tse ling','enngwe','hape','mmalwa',\"ka 'ngoe\",'ka bobeli','ho tswela pele',\"tlas'a\",'fetile','theoha','kantle','ka hare','tlase','nyoloha','ho tloha','ka tlase',\n",
    "'che','tsa hao','hape','se ke oa','lokela ho ba le','ne a ke ke','entse','ha aa ka a etsa joalo' ,'ke ke','ha ea lokela','e ne e se','li ne li se joalo','ha ho joalo']"
   ]
  },
  {
   "cell_type": "code",
   "execution_count": 19,
   "metadata": {},
   "outputs": [],
   "source": [
    "#Afr\n",
    "stop4=['ek','my','ek self','myself','ons',\"ons s'n\",'onsself','jy','jou','julle','jy het','het','jy sal','sal','jy sou','sou','joune','jouself',\n",
    "'julleself','hy','hom','syne','sy','homself','sy is','is','haar','haarne','haarself','dit','dit is','self','hulle','hul',\"hulle s'n\",\n",
    "'hulself','wat','watter','wie','hierdie','daardie','dit sal','die','was','wees','gewees','wese','het','hê','gehad het','gehad','doen','het gedoen',\n",
    "'en','maar','as','of','omdat','tot','totdat','terwyl','wyle','van','by','teen','deur','met','vir','oor','om', 'omheen', 'rondon','tussen','in','gedurende',\n",
    "'voor','daarna','na','hierbo','bo','hieronder','onder','aan','tot','van','up','af','in','uit','buite','op','verby', 'weer','verder','dan','destyds','destyd',\n",
    "'een keer','een maal','hier','daar','wanneer','waar','hoekom','hoe','almal','alle','enige','beide','elk','elke','min','meer','die meeste','meeste','ander',\n",
    "'sommige','sulke','sodanig','geen','nee','ook nie','nie','ook','enigste','net','slegs','sleg','eie','besit','dieselfde','so','as','alte','baie','kan','blik',\n",
    "'moenie','moes','nou','en','is nie','kon nie','kon','het nie','doen nie','doen','moes nie','mag nie','mag','moenie','moet','nodig het','het nie nodig nie','moet nie',\n",
    "'was nie','was','sou nie','sou']"
   ]
  },
  {
   "cell_type": "code",
   "execution_count": 20,
   "metadata": {},
   "outputs": [],
   "source": [
    "#IsiXhosa\n",
    "stop5=['mna','wam','ngokwam','thina','yethu','eyethu','wena','nguwe','une','uza','ungathanda','eyakho','ngokwakho','ngokwenu','nina',\n",
    "'yena','yakhe','ngokwakhe','eyakhe','yiyo','ngokwayo','bona','kubo','yabo','eyabo','ngeyabo','ngokwabo','intoni','ntoni','eyiphi','ngeyiphi',\n",
    "'ngubani','ungubani','engubani','le','leya','lonto','izakuza','ezi','eziya','ezo','ndim','ngu','wayenjalo','unjalo','babenjalo','njalo',\n",
    "'kuba','ukuba','ngokuba','sele','unayo','nayo','ebe','unayo','ndinayo','be','a','e','i','o','u','ukuba','yenza','uzoyenza','zoyenza','ukwenza',\n",
    "'uyenzile','wenzile','ukwenzile','kwenzile','kwenza','ukwenza','kwaye','okunye','kunye','kodwa','ukuba','kuba','okanye','kanye','kuba','ukuba','ngoba',\n",
    "'njenge','kude kube','kude','kube','ngeli xesha','ngeli','xesha','xana','xa','na','ye','nge','nje','ngokuba','malunga','ngokuchasene','chasene','bachasene','chasile','umchasile','aka','kaloku',\n",
    "'phakathi','ungene','ukugqitha','gqitha','gqithile','gqithisa','gqithisile','ngexesha','ngaphambili','emva','mva','ngentla','ntla',\n",
    "'ngezantsi','zantsi','ukuya','kuya','ukusuka','kusuka','suka','phezulu','ngaphezulu','nangaphezulu','na ngaphezulu','phantsi',\n",
    "'ngaphantsi','nga phantsi','phakathi','ngaphandle','phandle','ivuliwe','vuliwe','icimile','cimile','ngaphaya','phaya',\n",
    "'kwakhona','khona','kwa','kamva','emva koko','koko','emveni','apha','phaya','ya','pha','ngaphaya','ingathi','ngathi','nini','nithini',\n",
    " 'uthini','thini','bathini','bathi','athi','besithi','esithi','sithi','phi','njani','unjani','onjani','banjani','konke','bonke','nayiphi na','nayiphi',\n",
    "'zombini','nganye','zimbalwa','ezimbalwa','kaninzi','ninzi','nintsi','kanintsi','ezinintsi','inintsi','uninzi','isininzi','sininzi',\n",
    "'enye','ezinye','enjalo','injalo','kunjalo','njalo','hayi','kuphela','yeyakho','nge yakho','yakho','nge','ngokufanayo','okufanayo','oku','ofanayo','fanayo',\n",
    "'ke','kunokuba','nokuba','kuba','naye','ebe','kakhulu','khulu','ka','unako','ubunako','ebenako','ubu nako','ebe nako','ngaba',\n",
    "'nje','andazi','andiyazi','ndiyayazi','ndiyazi','kufanele','okufaneleyo','kufanelekile','ngoku','ngokuya','kwakhona','kwaye',\n",
    "'ngaba','akunjalo','kunjalo','ayikwazi','ayenzi','eyenza','enza','khange','ayisiyiyo','ayiseyiyo','íyiyo','yiyo','le','ngekhe',\n",
    "'akufuneki','kufuneka','wayengekho','ebengekho','ngekho','ebekho','ukho','babengekho','bengekho','angekhe','soze','mhlawumbi','eli','elo','nelo','neli','nalu','eliya','eliyana']"
   ]
  },
  {
   "cell_type": "code",
   "execution_count": 21,
   "metadata": {},
   "outputs": [],
   "source": [
    "#Zulu\n",
    "stop6=[\"futhi\",\"kahle\",\"kakhulu\",\"kanye\",\"khona\",\"kodwa\",\"kungani\",\"kusho\",\"la\",\"lakhe\",\"lapho\",\"mina\",\"ngesikhathi\",\"nje\",\"phansi\",\"phezulu\",\"u\",\"ukuba\",\"ukuthi\",\"ukuze\",\"uma\",\"wahamba\",\"wakhe\",\"wami\",\"wase\",\"wathi\",\"yakhe\",\"zakhe\",\"zonke\",\n",
    "'mina','mina','wami','thina','yethu','okwethu','wena','uwena','uke','uzoba','ubungeke','ngeke','eyakho','wenu','nina','yena','okwakhe','unjalo','kanjalo','njalo','kunjalo','eyakhe','yena','kuyinto','uqobo','qobo','bona','bona','yona','zona',\n",
    " 'yabo','ezabo','zabo','ngokwabo','lwabo','lwazo','yini','kuyini','ngani','manje','khona','lapho','okuyi','imuphi','muphi', 'ubani','bani','ngubani','lokhu','lokhuya','lesi','leli','ukuthi','lokho kuzoba','lokho','kuzoba','lezi','labo','lezo','lawo',\n",
    "'ngi','yimi','kuyinto','kukhona','kwaba','zazikhona','zikhona','ikhona','kube','babe','bekulokhu','ukuba','unayo','banayo','kwadingeka','dingeka','kokuba','yenza','kuyakwenza','wenze','ukwenza','futhi','nafuthi','kanye','nakanye','kodwa','kepha','kanti',\n",
    "'uma','nxa','noma','kumbe','kambe','konje','yini','manje','ngoba','ngalokho','lokho','njengoba','kuze kube','kuze kwabe','kuze','kwabe','ngenkathi','ngesikhathi','lapho','ye','ngase','duze','ngoba','nge','ne','na','mayelana','maqondana','ngokumelene','ncikene',\n",
    "'ncikene','ebhekene','nqikene','phakathi','ngaphakathi','ungene','kungene','bangene','ngokusebenzisa','ngesikhathi','mhlana','mhla','kusa','ngaphambi','ngaphambili','phambili','ngemuva','emuva','kamuva','ngenhla','enhla','ngezansi','phansi','ngaphansi','ezansi',\n",
    "'uku','kusuka','phezulu','ngaphezulu','enhla','phakathi','kuphakathi','kwaphakathi','phuma','phandle','vula','kuvaliwe','valiwe','cishe','cishile','cishiwe','ungene','phezu','seleyo','eqela','futhi','buye','phinda','waphinda','ngaphinda','ngokuqhubekayo','phambili',\n",
    "'lapho-ke','lapho ke','lapho','ke','kanye','lapha','la','laphaya','nini','manxa','ngesikhathi','kuphi','phi','ngani','ngobani','ubani','ngani','yini','kanjani','njani','unjani','konke','kuze','noma yini','noma kuphi','kokubili','bobabili','yombili','ngamunye','emunye',\n",
    "'sisinye','lowo nalowo','lowo','nalowo','okumbalwa','mbalwa','iningana','ncane','okuningi','kuningi','ngokweqileyo','ningi ngokwedlulele','ngokwedlulele','kakhulu','okunye','ezinye','nye','yingcosana','enjalo','njalo','ngenga','nje','cha','qha','ke','noma','hhayi','kuphela',\n",
    "'okwakho','wami','lami','yami','ngeyami','nge yami','ngowami','ngelami','ngo wami','nge lami','ngokufanayo','ngo kufanayo','fanayo','ngakho-ke','ngakho ke','ngakho','ke','kune','kunoba','kunokuthi','kuna','futhi','ngokweqile','kakhulu','impela','ngempela','nge mpela','-noku','noku',\n",
    "'ngakwazi','nga kwazi','kuthanda','isifiso','intando','nje','ungakwenzi','kufanele','ngokufanele','ngo kufanele','bekufanele','beku','manje','kabusha','akuzona','kuzona','zona','ayikwazanga','ayikwazanga','akazange','akusho','kusho','akunjalo','kunjalo','kanjalo','njalo','ngangingenalo',\n",
    "'nganginalo','nginalo','akukaze','kaze','angikaze','akuyona','kuyona','kungenzeka','kungenzeki','akumele','kumele','akudingeki','isidingo','ukudinga','ukufuna','funa','dinga','akunjalo','akufanele','kwakungeyona','yona','babengekho','ngeke']"
   ]
  },
  {
   "cell_type": "code",
   "execution_count": 22,
   "metadata": {},
   "outputs": [],
   "source": [
    "#Venda\n",
    "stop7=['nne','inwi','ene','ula','vhala','fhala','tshila','tshone','ndi','la','ya','ni','vhone',' khou','na','nnyi','bva','ga',' fhi',\n",
    " 'gai','do','lini','zwavhudi','livhuwa','khonani','pfi','vhona','vuwa','nga','si','kone','ha','a','naa','ee!','ee','hai!','hai','futhi','habe',\n",
    "'tou','thi','u','ngafhi','ndo','ri','rine','vha','inwi','wa','la','tsha','zwa','dza','la','mini','ngani','hani','mini','-ifhio','ifhio',\n",
    "'aa','ndaa','ro','pfa','khamusi','zwo','fara','duvha','li','divhi','humbela','vhe','vho','dzi','dze','dzo','dzu','yo','yi','yu','ye','yu']\n"
   ]
  },
  {
   "cell_type": "code",
   "execution_count": 23,
   "metadata": {},
   "outputs": [],
   "source": [
    "#Southern Sotho\n",
    "stop8=[\"a\",\"ba\",\"bane\",\"bona\",\"e\",\"ea\",\"eaba\",\"empa\",\"ena\",\"ha\",\"hae\",\"hape\",\"ho\",\"hore\",\"ka\",\"ke\",\"la\",\"le\",\"li\",\"me\",\"mo\",\"moo\",\"ne\",\"o\",\"oa\",\"re\",\"sa\",\"se\",\"tloha\",\"tsa\",\"tse\",'eba','aowa','mohlômong','mohlômongwê','tše','tša','go']\n"
   ]
  },
  {
   "cell_type": "code",
   "execution_count": 24,
   "metadata": {},
   "outputs": [],
   "source": [
    "#Xitsonga\n",
    "stop9=['xewani','avuxeni','ahee','kunjhani','minjhani','ni','kona','ndzi','ndza','vonani','hi','wena','ra','huma','e','kwihi','mi',\n",
    "'ku','u','va','ina','e-e','kumbe','xana','a','tivi','kombela','vula','sweswo','nakambe','xi','xana','wa','ke','mina','ndza','ri',\n",
    "'ku']"
   ]
  },
  {
   "cell_type": "code",
   "execution_count": 25,
   "metadata": {},
   "outputs": [],
   "source": [
    "stop = stop1+stop2+stop3+stop4+stop5+stop6+stop7+stop8+stop9"
   ]
  },
  {
   "cell_type": "markdown",
   "metadata": {},
   "source": [
    "# Remove stopwords"
   ]
  },
  {
   "cell_type": "code",
   "execution_count": 26,
   "metadata": {},
   "outputs": [],
   "source": [
    "DF['text'] = DF['text'].apply(lambda x: ' '.join([item for item in x.split() if item not in stop]))"
   ]
  },
  {
   "cell_type": "markdown",
   "metadata": {},
   "source": [
    "# Removing emojis"
   ]
  },
  {
   "cell_type": "code",
   "execution_count": 28,
   "metadata": {},
   "outputs": [],
   "source": [
    "filter_char = lambda c: ord(c) < 256\n",
    "DF['text']= DF['text'].apply(lambda s: ''.join(filter(filter_char, s)))"
   ]
  },
  {
   "cell_type": "markdown",
   "metadata": {},
   "source": [
    "# Removing punctuation"
   ]
  },
  {
   "cell_type": "code",
   "execution_count": 29,
   "metadata": {},
   "outputs": [],
   "source": [
    "#Cleaning and removing punctuation\n",
    "english_punctuations = string.punctuation\n",
    "punctuation_list = english_punctuations\n",
    "def cleaning_punctuation(text):\n",
    "    translator =str.maketrans('','',punctuation_list)\n",
    "    return text.translate(translator)\n",
    "DF['text'] = DF['text'].apply(lambda x: cleaning_punctuation(x))"
   ]
  },
  {
   "cell_type": "markdown",
   "metadata": {},
   "source": [
    "# Cleaning repeating characters"
   ]
  },
  {
   "cell_type": "code",
   "execution_count": 30,
   "metadata": {},
   "outputs": [],
   "source": [
    "def cleaning_repeating_char(text):\n",
    "    return re.sub(r'(.)\\1+',r'\\1',text)\n",
    "DF['text'] = DF['text'].apply(lambda x: cleaning_repeating_char(x))"
   ]
  },
  {
   "cell_type": "markdown",
   "metadata": {},
   "source": [
    "# Remove emails"
   ]
  },
  {
   "cell_type": "code",
   "execution_count": 31,
   "metadata": {},
   "outputs": [],
   "source": [
    "def cleaning_email(data):\n",
    "    return re.sub('@[^\\s]+',' ',data)\n",
    "DF['text'] = DF['text'].apply(lambda x: cleaning_email(x))"
   ]
  },
  {
   "cell_type": "markdown",
   "metadata": {},
   "source": [
    "# Remove URL's"
   ]
  },
  {
   "cell_type": "code",
   "execution_count": 32,
   "metadata": {},
   "outputs": [],
   "source": [
    "def cleaning_URLs(data):\n",
    "    return re.sub('((www\\.[^\\s]+)|(https?://[^\\s]+))',' ',data)\n",
    "DF['text'] = DF['text'].apply(lambda x: cleaning_URLs(x))"
   ]
  },
  {
   "cell_type": "markdown",
   "metadata": {},
   "source": [
    "# Remove numbers"
   ]
  },
  {
   "cell_type": "code",
   "execution_count": 33,
   "metadata": {},
   "outputs": [],
   "source": [
    "def cleaning_numbers(data):\n",
    "    return re.sub('[0-9]+','',data)\n",
    "DF['text'] = DF['text'].apply(lambda x: cleaning_numbers(x))"
   ]
  },
  {
   "cell_type": "markdown",
   "metadata": {},
   "source": [
    "# Cross validation"
   ]
  },
  {
   "cell_type": "code",
   "execution_count": 34,
   "metadata": {},
   "outputs": [],
   "source": [
    "tdif = TfidfVectorizer(strip_accents='unicode', analyzer='word', token_pattern=r'\\w{1,}',stop_words=None, ngram_range=(1,1))\n",
    "X_DF = tdif.fit_transform(DF['text'])\n",
    "X_test = X_DF[0:5682]\n",
    "X_train = X_DF[5682:]\n",
    "y =train_lang['lang_id']"
   ]
  },
  {
   "cell_type": "code",
   "execution_count": 37,
   "metadata": {},
   "outputs": [],
   "source": [
    "models = []\n",
    "models.append(('MNB', MultinomialNB()))\n",
    "models.append(('RF', RandomForestClassifier()))\n",
    "models.append(('LSVC', LinearSVC()))\n",
    "models.append(('XGB', XGBClassifier()))"
   ]
  },
  {
   "cell_type": "code",
   "execution_count": 38,
   "metadata": {},
   "outputs": [
    {
     "name": "stdout",
     "output_type": "stream",
     "text": [
      "MNB: 0.997212 (0.000353)\n",
      "RF: 0.961485 (0.002139)\n",
      "LSVC: 0.996152 (0.000661)\n",
      "XGB: 0.952545 (0.002464)\n"
     ]
    }
   ],
   "source": [
    "results = []\n",
    "names = []\n",
    "for name, model in models:\n",
    "    cv_results = cross_val_score(model,X_train,y, cv=5,scoring = 'accuracy')\n",
    "    results.append(cv_results)\n",
    "    names.append(name)\n",
    "    msg = \"%s: %f (%f)\" % (name,cv_results.mean(), cv_results.std())\n",
    "    print(msg)"
   ]
  },
  {
   "cell_type": "markdown",
   "metadata": {},
   "source": [
    "<b>The cross validation results suggests that the Multinomial NB has the average accuracy of 99.7%, and it is best performing model compare to other models.</b>"
   ]
  },
  {
   "cell_type": "markdown",
   "metadata": {},
   "source": [
    "# Train a MultinomialNB()"
   ]
  },
  {
   "cell_type": "code",
   "execution_count": 39,
   "metadata": {},
   "outputs": [
    {
     "data": {
      "text/plain": [
       "MultinomialNB()"
      ]
     },
     "execution_count": 39,
     "metadata": {},
     "output_type": "execute_result"
    }
   ],
   "source": [
    "model_mnb = MultinomialNB()\n",
    "model_mnb.fit(X_train, y)"
   ]
  },
  {
   "cell_type": "markdown",
   "metadata": {},
   "source": [
    "# Prediction"
   ]
  },
  {
   "cell_type": "code",
   "execution_count": 40,
   "metadata": {},
   "outputs": [],
   "source": [
    "mnb_pred = model_mnb.predict(X_test)\n",
    "pred_lang=pd.DataFrame(mnb_pred,columns=['lang_id'])\n",
    "XJ_subm =pd.DataFrame({'index':df_test.index + 1,'lang_id':pred_lang.lang_id})\n",
    "XJ_subm.to_csv('C:/Users/XolaniJ/Documents/EXPLORE ACADEMY_Data Science Course/ADVANCED CLASSIFICATION/NLP_Hackathon/submit_1.csv',index=False)"
   ]
  },
  {
   "cell_type": "markdown",
   "metadata": {},
   "source": [
    "# Train a MultinomialNB(alpha=0.05)"
   ]
  },
  {
   "cell_type": "code",
   "execution_count": 41,
   "metadata": {},
   "outputs": [],
   "source": [
    "model_mnb = MultinomialNB(alpha=0.05)"
   ]
  },
  {
   "cell_type": "code",
   "execution_count": 42,
   "metadata": {},
   "outputs": [
    {
     "data": {
      "text/plain": [
       "MultinomialNB(alpha=0.05)"
      ]
     },
     "execution_count": 42,
     "metadata": {},
     "output_type": "execute_result"
    }
   ],
   "source": [
    "model_mnb.fit(X_train, y)"
   ]
  },
  {
   "cell_type": "code",
   "execution_count": 43,
   "metadata": {},
   "outputs": [],
   "source": [
    "mnb_pred = model_mnb.predict(X_test)\n",
    "pred_lang=pd.DataFrame(mnb_pred,columns=['lang_id'])\n",
    "XJ_subm =pd.DataFrame({'index':df_test.index + 1,'lang_id':pred_lang.lang_id})\n",
    "XJ_subm.to_csv('C:/Users/XolaniJ/Documents/EXPLORE ACADEMY_Data Science Course/ADVANCED CLASSIFICATION/NLP_Hackathon/submit_2.csv',index=False)"
   ]
  },
  {
   "cell_type": "markdown",
   "metadata": {},
   "source": [
    "# MultinomialNB: Hyperparameter Tuning"
   ]
  },
  {
   "cell_type": "code",
   "execution_count": 44,
   "metadata": {},
   "outputs": [
    {
     "data": {
      "text/plain": [
       "{'alpha': 0.05, 'class_prior': None, 'fit_prior': True}"
      ]
     },
     "execution_count": 44,
     "metadata": {},
     "output_type": "execute_result"
    }
   ],
   "source": [
    "params = model_mnb.get_params()\n",
    "params"
   ]
  },
  {
   "cell_type": "code",
   "execution_count": 45,
   "metadata": {},
   "outputs": [
    {
     "name": "stdout",
     "output_type": "stream",
     "text": [
      "Fitting 5 folds for each of 42 candidates, totalling 210 fits\n"
     ]
    },
    {
     "name": "stderr",
     "output_type": "stream",
     "text": [
      "[Parallel(n_jobs=-1)]: Using backend LokyBackend with 8 concurrent workers.\n",
      "[Parallel(n_jobs=-1)]: Done   2 tasks      | elapsed:   17.4s\n",
      "[Parallel(n_jobs=-1)]: Done  56 tasks      | elapsed:   22.6s\n",
      "[Parallel(n_jobs=-1)]: Done 146 tasks      | elapsed:   29.8s\n",
      "[Parallel(n_jobs=-1)]: Done 210 out of 210 | elapsed:   34.6s finished\n"
     ]
    },
    {
     "name": "stdout",
     "output_type": "stream",
     "text": [
      "Best Parameters :  {'alpha': 0.025}\n"
     ]
    }
   ],
   "source": [
    "params = {'alpha': np.arange(0.0, 1.05, 0.025)\n",
    "         }\n",
    "\n",
    "multinomial_nb_grid = GridSearchCV(MultinomialNB(), param_grid=params, n_jobs=-1, cv=5, verbose=5)\n",
    "multinomial_nb_grid.fit(X_train,y)\n",
    "\n",
    "print('Best Parameters : ',multinomial_nb_grid.best_params_)"
   ]
  },
  {
   "cell_type": "code",
   "execution_count": 46,
   "metadata": {},
   "outputs": [
    {
     "data": {
      "text/plain": [
       "MultinomialNB(alpha=0.025)"
      ]
     },
     "execution_count": 46,
     "metadata": {},
     "output_type": "execute_result"
    }
   ],
   "source": [
    "model_mnb = MultinomialNB(alpha=0.025)\n",
    "model_mnb.fit(X_train, y)"
   ]
  },
  {
   "cell_type": "code",
   "execution_count": 47,
   "metadata": {},
   "outputs": [],
   "source": [
    "mnb_pred = model_mnb.predict(X_test)\n",
    "pred_lang=pd.DataFrame(mnb_pred,columns=['lang_id'])\n",
    "XJ_subm =pd.DataFrame({'index':df_test.index + 1,'lang_id':pred_lang.lang_id})\n",
    "XJ_subm.to_csv('C:/Users/XolaniJ/Documents/EXPLORE ACADEMY_Data Science Course/ADVANCED CLASSIFICATION/NLP_Hackathon/submit_3.csv',index=False)"
   ]
  },
  {
   "cell_type": "code",
   "execution_count": null,
   "metadata": {},
   "outputs": [],
   "source": []
  }
 ],
 "metadata": {
  "kernelspec": {
   "display_name": "Python 3",
   "language": "python",
   "name": "python3"
  },
  "language_info": {
   "codemirror_mode": {
    "name": "ipython",
    "version": 3
   },
   "file_extension": ".py",
   "mimetype": "text/x-python",
   "name": "python",
   "nbconvert_exporter": "python",
   "pygments_lexer": "ipython3",
   "version": "3.8.5"
  }
 },
 "nbformat": 4,
 "nbformat_minor": 4
}
